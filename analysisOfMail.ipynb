{
 "cells": [
  {
   "cell_type": "code",
   "execution_count": 36,
   "id": "3f00c040",
   "metadata": {},
   "outputs": [],
   "source": [
    "from analysisOfMail import mailAnalyser"
   ]
  },
  {
   "cell_type": "code",
   "execution_count": 37,
   "id": "9504668d",
   "metadata": {},
   "outputs": [],
   "source": [
    "mail = \"Today I feel very happy because I managed to finish my project, although I am a little tired.\""
   ]
  },
  {
   "cell_type": "code",
   "execution_count": 38,
   "id": "9fcc5799",
   "metadata": {},
   "outputs": [
    {
     "name": "stderr",
     "output_type": "stream",
     "text": [
      "Device set to use cpu\n",
      "c:\\Users\\aleja\\OneDrive\\Documentos\\Alejandro\\Projects\\WITMA\\env\\Lib\\site-packages\\transformers\\pipelines\\text_classification.py:111: UserWarning: `return_all_scores` is now deprecated,  if want a similar functionality use `top_k=None` instead of `return_all_scores=True` or `top_k=1` instead of `return_all_scores=False`.\n",
      "  warnings.warn(\n"
     ]
    }
   ],
   "source": [
    "mailAnalyser = mailAnalyser()"
   ]
  },
  {
   "cell_type": "code",
   "execution_count": 39,
   "id": "1e16164b",
   "metadata": {},
   "outputs": [
    {
     "name": "stdout",
     "output_type": "stream",
     "text": [
      "joy: 0.9931341409683228\n",
      "sadness: 0.002467527287080884\n",
      "surprise: 0.0017041995888575912\n",
      "neutral: 0.0009833696531131864\n",
      "anger: 0.0008513033972121775\n",
      "disgust: 0.0006236167391762137\n",
      "fear: 0.0002358500933041796\n"
     ]
    }
   ],
   "source": [
    "emotions = mailAnalyser.getEmotions(mail)\n",
    "for e, p in emotions.items():\n",
    "    print(f\"{e}: {p}\")"
   ]
  },
  {
   "cell_type": "code",
   "execution_count": 42,
   "id": "5692b5c4",
   "metadata": {},
   "outputs": [
    {
     "name": "stdout",
     "output_type": "stream",
     "text": [
      "0: finish\n",
      "1: happy\n",
      "2: little\n",
      "3: managed\n",
      "4: project\n",
      "5: tired\n",
      "6: today\n"
     ]
    }
   ],
   "source": [
    "topics = mailAnalyser.getTopics(mail, topics=7)\n",
    "for i, t in enumerate(topics):\n",
    "    print(f\"{i}: {t}\")"
   ]
  }
 ],
 "metadata": {
  "kernelspec": {
   "display_name": "env",
   "language": "python",
   "name": "python3"
  },
  "language_info": {
   "codemirror_mode": {
    "name": "ipython",
    "version": 3
   },
   "file_extension": ".py",
   "mimetype": "text/x-python",
   "name": "python",
   "nbconvert_exporter": "python",
   "pygments_lexer": "ipython3",
   "version": "3.12.3"
  }
 },
 "nbformat": 4,
 "nbformat_minor": 5
}
